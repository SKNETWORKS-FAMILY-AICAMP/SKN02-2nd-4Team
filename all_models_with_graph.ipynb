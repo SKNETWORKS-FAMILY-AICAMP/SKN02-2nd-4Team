np.random.seed(4)
test_indices_final = np.random.choice(X_test.shape[0], 10, replace=False)

X_test_sample_final = X_test.iloc[test_indices_final]
y_test_sample_final = y_test.iloc[test_indices_final]

y_pred_sample_final = best_xgb_classifier.predict(X_test_sample_final)


# 선택된 샘플의 인덱스와 예측 결과를 데이터프레임으로 저장하여 출력합니다.
result__final_df = pd.DataFrame({
    'Index': test_indices_final,
    'Actual': y_test_sample_final,
    'Predicted': y_pred_sample_final,
    'Isright' : y_test_sample_final == y_pred_sample_final
})
accuracy_final = result__final_df[result__final_df['Isright']==True].count()['Index']/10

print(result__final_df)

print(f"모델의 성능 : {accuracy_rf :.2f} 10명의 예측시 성능 : {accuracy_final :.2f}")
